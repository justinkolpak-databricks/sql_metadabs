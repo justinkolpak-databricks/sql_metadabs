{
 "cells": [
  {
   "cell_type": "markdown",
   "metadata": {
    "application/vnd.databricks.v1+cell": {
     "cellMetadata": {},
     "inputWidgets": {},
     "nuid": "0ecfaec0-258d-4fab-97a4-67737943ad7a",
     "showTitle": false,
     "title": ""
    }
   },
   "source": [
    "## Create Synthetic Source Data "
   ]
  },
  {
   "cell_type": "code",
   "execution_count": null,
   "metadata": {
    "application/vnd.databricks.v1+cell": {
     "cellMetadata": {
      "byteLimit": 2048000,
      "rowLimit": 10000
     },
     "inputWidgets": {},
     "nuid": "1d8e08d1-c2de-4a9b-8f81-79822278ecda",
     "showTitle": false,
     "title": ""
    }
   },
   "outputs": [],
   "source": [
    "%pip install dbldatagen==0.3.5"
   ]
  },
  {
   "cell_type": "code",
   "execution_count": null,
   "metadata": {
    "application/vnd.databricks.v1+cell": {
     "cellMetadata": {
      "byteLimit": 2048000,
      "rowLimit": 10000
     },
     "inputWidgets": {},
     "nuid": "1074009f-1c5c-4c6d-94e3-b9a74fd79e8a",
     "showTitle": false,
     "title": ""
    }
   },
   "outputs": [],
   "source": [
    "import dbldatagen as dg\n",
    "import json\n",
    "import pprint"
   ]
  },
  {
   "cell_type": "code",
   "execution_count": null,
   "metadata": {
    "application/vnd.databricks.v1+cell": {
     "cellMetadata": {
      "byteLimit": 2048000,
      "rowLimit": 10000
     },
     "inputWidgets": {},
     "nuid": "5fab1591-90a1-47f5-b651-6ec6ff5afb32",
     "showTitle": false,
     "title": ""
    }
   },
   "outputs": [],
   "source": [
    "dbutils.widgets.text(\"metadata_file_path\", \"\", \"01 Metadata File Path\")"
   ]
  },
  {
   "cell_type": "code",
   "execution_count": null,
   "metadata": {
    "application/vnd.databricks.v1+cell": {
     "cellMetadata": {
      "byteLimit": 2048000,
      "rowLimit": 10000
     },
     "inputWidgets": {},
     "nuid": "532ea97b-208c-46fa-8bb9-88b568e6c7e8",
     "showTitle": false,
     "title": ""
    }
   },
   "outputs": [],
   "source": [
    "# Open json metadata and deserialize to dict\n",
    "with open(dbutils.widgets.get('metadata_file_path')) as f:\n",
    "    task_list = json.load(f)\n",
    "\n",
    "# Optionally filter for specific tasks\n",
    "task_list = [t for t in task_list if t['batch'] in ('bronze_01', 'bronze_02')]\n",
    "\n",
    "pprint.pprint(task_list)"
   ]
  },
  {
   "cell_type": "code",
   "execution_count": null,
   "metadata": {
    "application/vnd.databricks.v1+cell": {
     "cellMetadata": {},
     "inputWidgets": {},
     "nuid": "12d932e0-4ee0-4c8d-a832-26645065d7da",
     "showTitle": true,
     "title": "Create Dataspec for Data Generator"
    }
   },
   "outputs": [],
   "source": [
    "# https://databrickslabs.github.io/dbldatagen/public_docs/generating_cdc_data.html\n",
    "\n",
    "def create_dataspec(row_count, partitions):\n",
    "    partitions_requested = partitions\n",
    "    data_rows = row_count\n",
    "    spark.conf.set(\"spark.sql.shuffle.partitions\", \"auto\")\n",
    "    uniqueCustomers = row_count\n",
    "\n",
    "    dataspec = (\n",
    "        dg.DataGenerator(\n",
    "            spark,\n",
    "            rows=data_rows,\n",
    "            partitions=partitions_requested,\n",
    "            randomSeedMethod=\"hash_fieldname\",\n",
    "        )\n",
    "        .withIdOutput()\n",
    "        .withColumn(\"str1\", \"string\", template=r\"\\\\w\")\n",
    "        .withColumn(\"str2\", \"string\", template=r\"\\\\w\")\n",
    "        .withColumn(\n",
    "            \"event_date\",\n",
    "            \"date\",\n",
    "            begin=\"2020-01-01\",\n",
    "            end=\"2022-12-31\",\n",
    "            interval=\"1 day\",\n",
    "            random=True,\n",
    "        )\n",
    "    )\n",
    "\n",
    "    return dataspec"
   ]
  },
  {
   "cell_type": "code",
   "execution_count": null,
   "metadata": {
    "application/vnd.databricks.v1+cell": {
     "cellMetadata": {},
     "inputWidgets": {},
     "nuid": "c1936470-d70c-4203-b1a5-5b6871a55330",
     "showTitle": false,
     "title": ""
    }
   },
   "outputs": [],
   "source": [
    "# catalog = dbutils.widgets.get('catalog')\n",
    "# schema = dbutils.widgets.get('schema')\n",
    "# nbr_of_tables = int(dbutils.widgets.get('nbr_of_tables'))\n",
    "\n",
    "# spark.sql(f'use catalog {catalog}')\n",
    "# spark.sql(f'create schema if not exists {schema}')\n",
    "\n",
    "# Set partitions to 1x or 2x number of cores\n",
    "dataspec = create_dataspec(row_count=1_000_000, partitions=32)\n",
    "dataspec.build().createOrReplaceTempView('src_vw')"
   ]
  },
  {
   "cell_type": "code",
   "execution_count": null,
   "metadata": {
    "application/vnd.databricks.v1+cell": {
     "cellMetadata": {},
     "inputWidgets": {},
     "nuid": "51fc5b23-60c2-4bb6-897c-85502faec371",
     "showTitle": false,
     "title": ""
    }
   },
   "outputs": [],
   "source": [
    "for t in task_list:\n",
    "  qry = f\"\"\"create or replace table {t['src_catalog']}.{t['src_schema']}.{t['src_table']} as\n",
    "  select * from src_vw\n",
    "  \"\"\"\n",
    "  spark.sql(qry)"
   ]
  }
 ],
 "metadata": {
  "application/vnd.databricks.v1+notebook": {
   "dashboards": [],
   "environmentMetadata": null,
   "language": "python",
   "notebookMetadata": {
    "pythonIndentUnit": 2
   },
   "notebookName": "create_src_data",
   "widgets": {
    "metadata_file_path": {
     "currentValue": "/Workspace/Users/chris.koester@databricks.com/.bundle/sql_metadabs/dev/files/task_metadata.json",
     "nuid": "f2640cd8-6ecc-4a86-a5e3-968b6fc08e44",
     "typedWidgetInfo": null,
     "widgetInfo": {
      "defaultValue": "",
      "label": "01 BMetadata File Path",
      "name": "metadata_file_path",
      "options": {
       "autoCreated": null,
       "validationRegex": null,
       "widgetType": "text"
      },
      "widgetType": "text"
     }
    }
   }
  },
  "language_info": {
   "name": "python"
  }
 },
 "nbformat": 4,
 "nbformat_minor": 0
}
